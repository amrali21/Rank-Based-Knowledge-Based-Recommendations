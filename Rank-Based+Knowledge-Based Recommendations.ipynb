{
 "cells": [
  {
   "cell_type": "markdown",
   "metadata": {},
   "source": [
    "### Recommendations Rank & Knowledge Based: \n"
   ]
  },
  {
   "cell_type": "markdown",
   "metadata": {},
   "source": [
    "#### Part I: How To Find The Most Popular Movies\n",
    "\n",
    "For this notebook, we have a single task.  The task is that no matter the user, we need to provide a list of the recommendations based on simply the most popular items.\n",
    "\n",
    "For this task, we will consider what is \"most popular\" based on the following criteria:\n",
    "\n",
    "* A movie with the highest average rating is considered best\n",
    "* With ties, movies that have more ratings are better\n",
    "* A movie must have a minimum of 5 ratings to be considered among the best movies\n",
    "* If movies are tied in their average rating and number of ratings, the ranking is determined by the movie that is the most recent rating\n",
    "\n",
    "With these criteria, the goal for this notebook is to take a **user_id** and provide back the **n_top** recommendations.  Use the function below as the scaffolding that will be used for all the future recommendations as well."
   ]
  },
  {
   "cell_type": "code",
   "execution_count": 42,
   "metadata": {},
   "outputs": [],
   "source": [
    "import numpy as np\n",
    "import pandas as pd\n",
    "import matplotlib.pyplot as plt\n",
    "import tests as t\n",
    "\n",
    "\n",
    "%matplotlib inline\n",
    "\n",
    "# Read in the datasets\n",
    "movies = pd.read_csv('movies_clean.csv')\n",
    "reviews = pd.read_csv('reviews_clean.csv')\n",
    "del movies['Unnamed: 0']\n",
    "del reviews['Unnamed: 0']"
   ]
  },
  {
   "cell_type": "code",
   "execution_count": 43,
   "metadata": {},
   "outputs": [],
   "source": [
    "# merge movies and reviews tables\n",
    "movie_review = pd.merge(movies,reviews,on='movie_id',how='inner')\n",
    "\n",
    "# convert reviews date to correct type .\n",
    "reviews['date'] = pd.to_datetime(reviews['date'])\n"
   ]
  },
  {
   "cell_type": "code",
   "execution_count": 50,
   "metadata": {},
   "outputs": [],
   "source": [
    "def popular_recommendations_clean(user_id, n_top):\n",
    "    '''\n",
    "    INPUT:\n",
    "    user_id - the user_id of the individual you are making recommendations for\n",
    "    n_top - an integer of the number recommendations you want back\n",
    "    OUTPUT:\n",
    "    top_movies - a list of the n_top recommended movies by movie title in order best to worst\n",
    "    '''\n",
    "    # take this out?\n",
    "    top_movies_id = ranked_movie_ids()\n",
    "    \n",
    "    top_movies_id_nonwatched = remove_watched_movies(user_id, top_movies_id)\n",
    "    \n",
    "    top_movies = list(pd.merge(top_movies_id_nonwatched,movies,on='movie_id')['movie'])[:n_top]\n",
    "\n",
    "    return top_movies\n",
    "    \n"
   ]
  },
  {
   "cell_type": "code",
   "execution_count": null,
   "metadata": {},
   "outputs": [],
   "source": [
    "def ranked_movie_ids():\n",
    "    '''\n",
    "    INPUT: \n",
    "    movie_review - the merged users and ratings dataframe\n",
    "    OUTPUT:\n",
    "    top_movies_id - all movies id's in sorted order according to the criteria mentioned above.\n",
    "    '''\n",
    "    # get mean rating and no. of ratings for each movie and date of last review (because we'll use them to sort movies according to criteria)\n",
    "    movie_review_aggr = movie_review.groupby('movie_id').agg({'rating': ['mean', 'count'], 'date_y': 'max'})\n",
    "\n",
    "    # drop rows with less than 5 ratings\n",
    "    movie_review_aggr = movie_review_aggr[ movie_review_aggr[('rating', 'count')] >= 5 ]\n",
    "    \n",
    "    # change movie_id from index to column\n",
    "    movie_review_aggr.reset_index(level=0, inplace=True)\n",
    "    \n",
    "    # sort rows according to criteria and return their sorted id's\n",
    "    top_movies_id = movie_review_aggr.sort_values(by=[('rating',  'mean'),('rating', 'count'),('date_y','max')], ascending=False)['movie_id']\n",
    "    \n",
    "    top_movies_id = pd.DataFrame(top_movies_id)\n",
    "    \n",
    "    #print(top_movies_id['movie_id'])\n",
    "    \n",
    "    return top_movies_id\n"
   ]
  },
  {
   "cell_type": "code",
   "execution_count": null,
   "metadata": {},
   "outputs": [],
   "source": [
    "# this function simply removes movies the user has watched from the sorted list and then returns the list.\n",
    "def remove_watched_movies(user_id, top_movies_id):\n",
    "    \n",
    "    movie_user_watched_ = movie_review[movie_review['user_id'] == user_id]['movie_id']\n",
    "    top_movies_id_nonwatched = top_movies_id[~(top_movies_id['movie_id'].isin(movie_user_watched_))]\n",
    "    return top_movies_id_nonwatched"
   ]
  },
  {
   "cell_type": "markdown",
   "metadata": {},
   "source": [
    "## testing part 1"
   ]
  },
  {
   "cell_type": "code",
   "execution_count": 46,
   "metadata": {},
   "outputs": [
    {
     "data": {
      "text/plain": [
       "['MSG 2 the Messenger (2015)',\n",
       " 'Avengers: Age of Ultron Parody (2015)',\n",
       " 'Sorry to Bother You (2018)',\n",
       " 'Selam (2013)',\n",
       " \"Quiet Riot: Well Now You're Here, There's No Way Back (2014)\",\n",
       " 'Crawl Bitch Crawl (2012)',\n",
       " 'Make Like a Dog (2015)',\n",
       " 'Pandorica (2016)',\n",
       " 'Third Contact (2011)',\n",
       " 'Romeo Juliet (2009)']"
      ]
     },
     "execution_count": 46,
     "metadata": {},
     "output_type": "execute_result"
    }
   ],
   "source": [
    "# Top 10 movies recommended for id 1\n",
    "\n",
    "recs_5_for_1 = popular_recommendations_clean(1,10)\n",
    "recs_5_for_1"
   ]
  },
  {
   "cell_type": "markdown",
   "metadata": {},
   "source": [
    "**Notice:** This wasn't the only way we could have determined the \"top rated\" movies.  You can imagine that in keeping track of trending news or trending social events, you would likely want to create a time window from the current time, and then pull the articles in the most recent time frame.  There are always going to be some subjective decisions to be made.  \n",
    "\n",
    "If you find that no one is paying any attention to your most popular recommendations, then it might be time to find a new way to recommend\n"
   ]
  },
  {
   "cell_type": "markdown",
   "metadata": {},
   "source": [
    "### Part II: Adding Filters\n",
    "\n",
    "Now that you have created a function to give back the **n_top** movies, let's make it a bit more robust.  Add arguments that will act as filters for the movie **year** and **genre**.  \n",
    "\n",
    "Use the cells below to adjust your existing function to allow for **year** and **genre** arguments as **lists** of **strings**.  Then your ending results are filtered to only movies within the lists of provided years and genres (as `or` conditions).  If no list is provided, there should be no filter applied.\n",
    "\n",
    "You can adjust other necessary inputs as necessary to retrieve the final results you are looking for!\n",
    "\n",
    "```\n",
    "t.popular_recs_filtered('1', 20, ranked_movies, years=['2015', '2016', '2017', '2018'], genres=['History', 'Comedy'])\n",
    "```"
   ]
  },
  {
   "cell_type": "code",
   "execution_count": 47,
   "metadata": {},
   "outputs": [],
   "source": [
    "genres = ['History', 'News', 'Horror', 'Musical', 'Film-Noir', 'Mystery',\n",
    "       'Adventure', 'Sport', 'War', 'Music', 'Reality-TV', 'Adult', 'Crime',\n",
    "       'Family', 'Drama', 'Talk-Show', 'Biography', 'Sci-Fi', 'Fantasy',\n",
    "       'Romance', 'Game-Show', 'Action', 'Documentary', 'Animation', 'Comedy',\n",
    "       'Short', 'Western', 'Thriller']"
   ]
  },
  {
   "cell_type": "code",
   "execution_count": 48,
   "metadata": {},
   "outputs": [],
   "source": [
    "def popular_recommendations_filtered_clean(user_id, n_top, years=None, genres=None):\n",
    "       '''\n",
    "    INPUT:\n",
    "    user_id - the user_id of the individual you are making recommendations for\n",
    "    n_top - an integer of the number recommendations you want back\n",
    "    years - an array to filter top movies \n",
    "    genres - an array to filter top movies\n",
    "    OUTPUT:\n",
    "    top_movies - a list of the n_top recommended movies by movie title in order best to worst\n",
    "    '''\n",
    "    top_movies_id = ranked_movie_ids()\n",
    "    \n",
    "    top_movies_id_nonwatched = remove_watched_movies(user_id, top_movies_id)\n",
    "    \n",
    "    \n",
    "    # get merged df \n",
    "    merged = pd.merge(top_movies_id_nonwatched,movies,on='movie_id')\n",
    "    if years is not None:\n",
    "        merged = merged[merged['date'].isin(years)]\n",
    "        \n",
    "    if genres is not None:\n",
    "        # get slice, then sum over 1 axis\n",
    "        no_of_genre_matched = merged[genres].sum(axis=1)\n",
    "        merged = merged[no_of_genre_matched > 0]\n",
    "        \n",
    "    top_movies = list(merged['movie'])[:n_top]\n",
    "\n",
    "    #top_movies = list(pd.merge(top_movies_id_nonwatched,movies,on='movie_id')['movie'])[:n_top]\n",
    "\n",
    "    return top_movies\n",
    "    \n"
   ]
  },
  {
   "cell_type": "markdown",
   "metadata": {},
   "source": [
    "## testing part 2"
   ]
  },
  {
   "cell_type": "code",
   "execution_count": 49,
   "metadata": {},
   "outputs": [
    {
     "data": {
      "text/plain": [
       "['MSG 2 the Messenger (2015)',\n",
       " 'Avengers: Age of Ultron Parody (2015)',\n",
       " 'Sorry to Bother You (2018)',\n",
       " 'Make Like a Dog (2015)',\n",
       " 'Be Somebody (2016)',\n",
       " 'Poshter Girl (2016)',\n",
       " 'Ayla: The Daughter of War (2017)',\n",
       " 'I Believe in Miracles (2015)',\n",
       " 'Bajrangi Bhaijaan (2015)',\n",
       " 'The Farthest (2017)']"
      ]
     },
     "execution_count": 49,
     "metadata": {},
     "output_type": "execute_result"
    }
   ],
   "source": [
    "# find top 10 movies in years from 2015 - 2018 and in genres of History or Comedy\n",
    "\n",
    "popular_recommendations_filtered_clean(1, 10,years=['2015', '2016', '2017', '2018'], genres=['History', 'Comedy'] )"
   ]
  },
  {
   "cell_type": "code",
   "execution_count": null,
   "metadata": {},
   "outputs": [],
   "source": []
  },
  {
   "cell_type": "code",
   "execution_count": null,
   "metadata": {},
   "outputs": [],
   "source": []
  }
 ],
 "metadata": {
  "kernelspec": {
   "display_name": "Python 3",
   "language": "python",
   "name": "python3"
  },
  "language_info": {
   "codemirror_mode": {
    "name": "ipython",
    "version": 3
   },
   "file_extension": ".py",
   "mimetype": "text/x-python",
   "name": "python",
   "nbconvert_exporter": "python",
   "pygments_lexer": "ipython3",
   "version": "3.8.5"
  }
 },
 "nbformat": 4,
 "nbformat_minor": 2
}
